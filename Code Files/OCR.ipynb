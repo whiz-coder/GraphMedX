{
 "cells": [
  {
   "cell_type": "markdown",
   "id": "7be5455d-32ca-4a81-a4af-15b36b2949c9",
   "metadata": {},
   "source": [
    "## Open AI function to send prompt to gpt "
   ]
  },
  {
   "cell_type": "code",
   "execution_count": 24,
   "id": "f63224ee-3bae-4c57-9330-eb1005bb1e9f",
   "metadata": {},
   "outputs": [],
   "source": [
    "import openai\n",
    "def ask_openai(text, api_key):\n",
    "    openai.api_key = api_key\n",
    "\n",
    "    # Ensure you're using the correct engine model. Update as necessary.\n",
    "    response = openai.ChatCompletion.create(\n",
    "        model=\"gpt-4o\",  # Update to the specific model you intend to use, like \"gpt-4\" when available.\n",
    "        messages=[\n",
    "            {\"role\": \"system\", \"content\": \"You are a helpful assistant.\"},\n",
    "            {\"role\": \"user\", \"content\": f\"Extract Report No,Patient Name,Date,Age,HGB,HCT,PLT,WBC,RBC,ALT from the following medical text, and mentioned result with units. also add  specimen id as report no,and DONT WRITE HEADING for Report No,Patient Name,Date,Age,HGB,HCT,PLT,WBC,RBC,ALT and also any other text and write values NULL if theres no result,AND USE - IN DATE NOT COMMA, I NEED ANSWER FOR ONLY 10 ATTRIBUTES WHICH I GAVE U :\\n\\n{text}\"}\n",
    "        ],\n",
    "        max_tokens=250\n",
    "    )\n",
    "\n",
    "    # Depending on the structure of the response, adjust how you access the generated text.\n",
    "    return response['choices'][0]['message']['content'].strip()"
   ]
  },
  {
   "cell_type": "markdown",
   "id": "3a71474c-c5cb-4bb8-8d12-9fe8a6030dab",
   "metadata": {},
   "source": [
    "## OCR function to get text from lab reports"
   ]
  },
  {
   "cell_type": "code",
   "execution_count": 25,
   "id": "2e518a58-e4c4-4428-afd0-c8225b2dfc7f",
   "metadata": {},
   "outputs": [],
   "source": [
    "import pytesseract\n",
    "from pdf2image import convert_from_path\n",
    "\n",
    "# If you have installed Tesseract-OCR in a specific directory, you might need to specify the path to the executable\n",
    "# pytesseract.pytesseract.tesseract_cmd = r'C:\\Program Files\\Tesseract-OCR\\tesseract.exe'  # Adjust the path based on your installation\n",
    "\n",
    "def extract_text_from_pdf_with_ocr(pdf_path):\n",
    "    # Convert PDF to a list of images (one image per page)\n",
    "    images = convert_from_path(pdf_path, dpi=300)  # dpi can be adjusted based on the quality of the scanned document\n",
    "    \n",
    "    text = ''\n",
    "    # Iterate through the images and apply OCR to each\n",
    "    for image in images:\n",
    "        text += pytesseract.image_to_string(image)\n",
    "    \n",
    "    return text"
   ]
  },
  {
   "cell_type": "markdown",
   "id": "5bc602f1-fd82-41e1-8daf-174abf8f4ec7",
   "metadata": {},
   "source": [
    "## API KEY IS CONFIDENTIAL MAKE SURE TO REMOVE IT WHEN U UPLOAD ON GITHUB"
   ]
  },
  {
   "cell_type": "code",
   "execution_count": 33,
   "id": "820671c7-448c-435d-81be-532fc5863a1d",
   "metadata": {},
   "outputs": [
    {
     "name": "stdout",
     "output_type": "stream",
     "text": [
      "001IDON23012756, HASSAN, December-1-2023, NULL, 15.5 g/dL, 48.2 %, 369 x10³/µL, 8.53 x10³/µL, 5.52 x10⁶/µL, NULL\n"
     ]
    }
   ],
   "source": [
    "pdf_path = 'bloodreport3.pdf'  # Specify the path to your PDF\n",
    "extracted_text = extract_text_from_pdf_with_ocr(pdf_path)\n",
    "api_key= \"api-key\"\n",
    "result = ask_openai(extracted_text, api_key)\n",
    "print(result)"
   ]
  },
  {
   "cell_type": "markdown",
   "id": "5c50bcf9-d7be-4d58-963e-0b2a052724e1",
   "metadata": {},
   "source": [
    "## Function to create dataset from our lab report which was give to open ai for to give correct results"
   ]
  },
  {
   "cell_type": "code",
   "execution_count": 34,
   "id": "03f806ac-b32c-48b0-8313-a127fc9cb87b",
   "metadata": {},
   "outputs": [
    {
     "name": "stdout",
     "output_type": "stream",
     "text": [
      "Report already present.\n"
     ]
    }
   ],
   "source": [
    "import pandas as pd\n",
    "\n",
    "def append_lab_report_from_csv_string(csv_string, file_path):\n",
    "    # Split the CSV string into a list\n",
    "    report_data = csv_string.split(', ')\n",
    "\n",
    "    # Prepare a DataFrame with the correct columns based on your report format\n",
    "    columns = [\"Report No\", \"Patient Name\", \"Date\", \"Age\", \"HGB\", \"HCT\", \"PLT\", \"WBC\", \"RBC\", \"ALT\"]\n",
    "    df_new_entry = pd.DataFrame([report_data], columns=columns)\n",
    "\n",
    "    # Load existing data or initialize a new DataFrame if the file does not exist\n",
    "    try:\n",
    "        df_existing = pd.read_csv(file_path)\n",
    "    except FileNotFoundError:\n",
    "        df_existing = pd.DataFrame(columns=columns)\n",
    "\n",
    "    # Check if the new report number is already present in the existing data\n",
    "    if df_new_entry['Report No'].iloc[0] in df_existing['Report No'].values:\n",
    "        return \"Report already present.\"\n",
    "\n",
    "    # Append new data if report number is not found\n",
    "    df_combined = pd.concat([df_existing, df_new_entry])\n",
    "    df_combined.to_csv(file_path, index=False)\n",
    "    return \"Data appended successfully.\"\n",
    "\n",
    "# Example usage of the function\n",
    "file_path = 'Lab_Reports.csv'  # Specify the file path for the CSV\n",
    "csv_input = result  # Example CSV input\n",
    "\n",
    "# Call the function and print the response\n",
    "response = append_lab_report_from_csv_string(csv_input, file_path)\n",
    "print(response)\n"
   ]
  },
  {
   "cell_type": "code",
   "execution_count": 38,
   "id": "b6567be6-1680-4998-9b4e-9d1e11a300c7",
   "metadata": {},
   "outputs": [
    {
     "name": "stdout",
     "output_type": "stream",
     "text": [
      "Warning: When  cdn_resources is 'local' jupyter notebook has issues displaying graphics on chrome/safari. Use cdn_resources='in_line' or cdn_resources='remote' if you have issues viewing graphics in a notebook.\n",
      "lab_report_visualization.html\n"
     ]
    },
    {
     "data": {
      "text/html": [
       "\n",
       "        <iframe\n",
       "            width=\"2000px\"\n",
       "            height=\"1000px\"\n",
       "            src=\"lab_report_visualization.html\"\n",
       "            frameborder=\"0\"\n",
       "            allowfullscreen\n",
       "            \n",
       "        ></iframe>\n",
       "        "
      ],
      "text/plain": [
       "<IPython.lib.display.IFrame at 0x7247de586250>"
      ]
     },
     "execution_count": 38,
     "metadata": {},
     "output_type": "execute_result"
    }
   ],
   "source": [
    "import pandas as pd\n",
    "import networkx as nx\n",
    "from pyvis.network import Network\n",
    "\n",
    "# Load the dataset\n",
    "df = pd.read_csv('Lab_Reports.csv')  # Adjust the path as necessary\n",
    "\n",
    "# Initialize the NetworkX graph\n",
    "G = nx.DiGraph()\n",
    "\n",
    "# Add nodes and edges for each report\n",
    "for index, row in df.iterrows():\n",
    "    report_node = f\"Report: {row['Report No']} ({row['Date']})\"\n",
    "    patient_node = f\"Patient: {row['Patient Name']} ({row['Date']})\"\n",
    "\n",
    "    # Add report and patient nodes\n",
    "    G.add_node(report_node, title=report_node, color=\"orange\", size=25)\n",
    "    G.add_node(patient_node, title=patient_node, color=\"lightblue\", size=30)\n",
    "    \n",
    "    # Connect patient to report\n",
    "    G.add_edge(patient_node, report_node, title=\"Report Details\")\n",
    "\n",
    "    # Create nodes for each test result and connect to the report\n",
    "    hgb_node = f\"HGB {row['HGB']} ({row['Date']})\"\n",
    "    hct_node = f\"HCT {row['HCT']} ({row['Date']})\"\n",
    "    plt_node = f\"PLT {row['PLT']} ({row['Date']})\"\n",
    "    wbc_node = f\"WBC {row['WBC']} ({row['Date']})\"\n",
    "    rbc_node = f\"RBC {row['RBC']} ({row['Date']})\"\n",
    "    alt_node = f\"ALT {row['ALT']} ({row['Date']})\"\n",
    "\n",
    "    # Adding nodes for each test with specific colors and sizes\n",
    "    G.add_node(hgb_node, title=hgb_node, color=\"green\", size=20)\n",
    "    G.add_node(hct_node, title=hct_node, color=\"red\", size=20)\n",
    "    G.add_node(plt_node, title=plt_node, color=\"yellow\", size=20)\n",
    "    G.add_node(wbc_node, title=wbc_node, color=\"purple\", size=20)\n",
    "    G.add_node(rbc_node, title=rbc_node, color=\"blue\", size=20)\n",
    "    G.add_node(alt_node, title=alt_node, color=\"pink\", size=20)\n",
    "\n",
    "    # Connect these nodes to the report node\n",
    "    G.add_edge(report_node, hgb_node, title=\"HGB Level\")\n",
    "    G.add_edge(report_node, hct_node, title=\"HCT Level\")\n",
    "    G.add_edge(report_node, plt_node, title=\"PLT Count\")\n",
    "    G.add_edge(report_node, wbc_node, title=\"WBC Count\")\n",
    "    G.add_edge(report_node, rbc_node, title=\"RBC Count\")\n",
    "    G.add_edge(report_node, alt_node, title=\"ALT Level\")\n",
    "\n",
    "# Initialize PyVis network\n",
    "nt = Network('1000px', '2000px', notebook=True)  # Set notebook=True if using in Jupyter Notebooks\n",
    "nt.from_nx(G)\n",
    "nt.show_buttons(filter_=['physics'])  # Allow interactive control over physics settings\n",
    "nt.show(\"lab_report_visualization.html\")\n"
   ]
  },
  {
   "cell_type": "code",
   "execution_count": null,
   "id": "2166afef-17a4-4b4c-a03c-66d9b61075e6",
   "metadata": {},
   "outputs": [],
   "source": []
  }
 ],
 "metadata": {
  "kernelspec": {
   "display_name": "Python 3 (ipykernel)",
   "language": "python",
   "name": "python3"
  },
  "language_info": {
   "codemirror_mode": {
    "name": "ipython",
    "version": 3
   },
   "file_extension": ".py",
   "mimetype": "text/x-python",
   "name": "python",
   "nbconvert_exporter": "python",
   "pygments_lexer": "ipython3",
   "version": "3.11.7"
  }
 },
 "nbformat": 4,
 "nbformat_minor": 5
}
