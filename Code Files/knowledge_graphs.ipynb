{
 "cells": [
  {
   "cell_type": "markdown",
   "id": "6de8ee63-cf57-4d31-b4b6-6d845433eb24",
   "metadata": {},
   "source": [
    "## Knowledge graphs visualizing patient diagnosis, prescription and procedures."
   ]
  },
  {
   "cell_type": "code",
   "execution_count": 3,
   "id": "b2c804f5-2f49-44fd-907e-ffa317de1a94",
   "metadata": {},
   "outputs": [
    {
     "name": "stdout",
     "output_type": "stream",
     "text": [
      "Warning: When  cdn_resources is 'local' jupyter notebook has issues displaying graphics on chrome/safari. Use cdn_resources='in_line' or cdn_resources='remote' if you have issues viewing graphics in a notebook.\n",
      "patient_journey.html\n"
     ]
    },
    {
     "data": {
      "text/html": [
       "\n",
       "        <iframe\n",
       "            width=\"2000px\"\n",
       "            height=\"1000px\"\n",
       "            src=\"patient_journey.html\"\n",
       "            frameborder=\"0\"\n",
       "            allowfullscreen\n",
       "            \n",
       "        ></iframe>\n",
       "        "
      ],
      "text/plain": [
       "<IPython.lib.display.IFrame at 0x713125556d10>"
      ]
     },
     "execution_count": 3,
     "metadata": {},
     "output_type": "execute_result"
    }
   ],
   "source": [
    "import networkx as nx\n",
    "from pyvis.network import Network\n",
    "import pandas as pd\n",
    "\n",
    "patients_df = pd.read_csv('small_dataset/PATIENTS.csv')\n",
    "admissions_df = pd.read_csv('small_dataset/ADMISSIONS.csv')\n",
    "diagnoses_df = pd.read_csv('small_dataset/DIAGNOSES_ICD.csv')\n",
    "procedures_df = pd.read_csv('small_dataset/PROCEDURES_ICD.csv')\n",
    "prescriptions_df = pd.read_csv('small_dataset/PRESCRIPTIONS.csv')\n",
    "\n",
    "\n",
    "first_patient_id = patients_df['subject_id'].iloc[0]\n",
    "\n",
    "# Filter data for this patient\n",
    "patients_df = patients_df[patients_df['subject_id'] == first_patient_id]\n",
    "admissions_df = admissions_df[admissions_df['subject_id'] == first_patient_id]\n",
    "diagnoses_df = diagnoses_df[diagnoses_df['hadm_id'].isin(admissions_df['hadm_id'])]\n",
    "procedures_df = procedures_df[procedures_df['hadm_id'].isin(admissions_df['hadm_id'])]\n",
    "prescriptions_df = prescriptions_df[prescriptions_df['hadm_id'].isin(admissions_df['hadm_id'])]\n",
    "\n",
    "# Initialize the NetworkX graph\n",
    "G = nx.DiGraph()\n",
    "\n",
    "# Add nodes and edges for each entity type\n",
    "# For Patients\n",
    "G.add_node(str(first_patient_id), title=f\"Patient {first_patient_id}\", color=\"lightblue\", size=25)\n",
    "\n",
    "# For Admissions\n",
    "for idx, row in admissions_df.iterrows():\n",
    "    G.add_node(str(row['hadm_id']), title=f\"Admission {row['hadm_id']}\", color=\"yellow\", size=20)\n",
    "    G.add_edge(str(first_patient_id), str(row['hadm_id']), title='had admission')\n",
    "\n",
    "# For Diagnoses\n",
    "for idx, row in diagnoses_df.iterrows():\n",
    "    G.add_node(str(row['icd9_code']), title=f\"Diagnosis {row['icd9_code']}\", color=\"green\", size=15)\n",
    "    G.add_edge(str(row['hadm_id']), str(row['icd9_code']), title='has diagnosis')\n",
    "\n",
    "# For Procedures\n",
    "for idx, row in procedures_df.iterrows():\n",
    "    G.add_node(str(row['icd9_code']), title=f\"Procedure {row['icd9_code']}\", color=\"red\", size=15)\n",
    "    G.add_edge(str(row['hadm_id']), str(row['icd9_code']), title='underwent procedure')\n",
    "\n",
    "# For Prescriptions\n",
    "for idx, row in prescriptions_df.iterrows():\n",
    "    G.add_node(str(row['drug']), title=f\"Prescribed {row['drug']}\", color=\"purple\", size=15)\n",
    "    G.add_edge(str(row['hadm_id']), str(row['drug']), title='was prescribed')\n",
    "\n",
    "# Initialize PyVis network\n",
    "nt = Network('1000px', '2000px', notebook=True)\n",
    "nt.from_nx(G)\n",
    "nt.show_buttons(filter_=['physics'])\n",
    "nt.show(\"patient_journey.html\")"
   ]
  },
  {
   "cell_type": "markdown",
   "id": "b620e09c-2ce9-4e93-ac20-f1be4fc47f78",
   "metadata": {},
   "source": [
    "## Visualizing the Diagnosis code and its meaning"
   ]
  },
  {
   "cell_type": "code",
   "execution_count": 4,
   "id": "f450d840-2c08-43ea-bb14-eb15af28dd39",
   "metadata": {},
   "outputs": [
    {
     "name": "stdout",
     "output_type": "stream",
     "text": [
      "Warning: When  cdn_resources is 'local' jupyter notebook has issues displaying graphics on chrome/safari. Use cdn_resources='in_line' or cdn_resources='remote' if you have issues viewing graphics in a notebook.\n",
      "diagnoses_network.html\n"
     ]
    },
    {
     "data": {
      "text/html": [
       "\n",
       "        <iframe\n",
       "            width=\"2000px\"\n",
       "            height=\"1000px\"\n",
       "            src=\"diagnoses_network.html\"\n",
       "            frameborder=\"0\"\n",
       "            allowfullscreen\n",
       "            \n",
       "        ></iframe>\n",
       "        "
      ],
      "text/plain": [
       "<IPython.lib.display.IFrame at 0x713115312210>"
      ]
     },
     "execution_count": 4,
     "metadata": {},
     "output_type": "execute_result"
    }
   ],
   "source": [
    "import pandas as pd\n",
    "import networkx as nx\n",
    "from pyvis.network import Network\n",
    "\n",
    "# Load the dataset\n",
    "diagnoses_df = pd.read_csv('small_dataset/D_ICD_DIAGNOSES.csv')\n",
    "\n",
    "# Select only necessary columns and limit to the first 20 rows\n",
    "diagnoses_df = diagnoses_df[['icd9_code', 'long_title']].head(20)\n",
    "\n",
    "# Initialize the graph\n",
    "G = nx.Graph()\n",
    "\n",
    "# Add nodes and edges with simplified labels\n",
    "for index, row in diagnoses_df.iterrows():\n",
    "    icd_node = f\"ICD9: {row['icd9_code']}\"\n",
    "    title_node = f\"Title: {row['icd9_code']}\"\n",
    "\n",
    "    # Add nodes with the full long title as a hover tooltip\n",
    "    G.add_node(icd_node, title=row['long_title'], label=icd_node, size=15)\n",
    "    G.add_node(title_node, title=row['long_title'], label=title_node, size=15)\n",
    "    \n",
    "    # Add an edge between the ICD code and its title\n",
    "    G.add_edge(icd_node, title_node, title=\"refers to\", label=\"refers to\", length=100, color='green')\n",
    "\n",
    "# Create the network visualization\n",
    "nt = Network('1000px', '2000px', notebook=True, directed=False)\n",
    "nt.from_nx(G)\n",
    "\n",
    "# Show the network\n",
    "nt.show('diagnoses_network.html')\n"
   ]
  },
  {
   "cell_type": "markdown",
   "id": "775617f5-c5de-461c-9eef-78e69423d792",
   "metadata": {},
   "source": [
    "## Visualizing the Lab reports of patients and lab events"
   ]
  },
  {
   "cell_type": "code",
   "execution_count": 5,
   "id": "6d17854f-c9be-4bc4-970f-efe1a4e192fc",
   "metadata": {},
   "outputs": [
    {
     "name": "stdin",
     "output_type": "stream",
     "text": [
      "Enter patient ID:  10038\n"
     ]
    },
    {
     "name": "stdout",
     "output_type": "stream",
     "text": [
      "Warning: When  cdn_resources is 'local' jupyter notebook has issues displaying graphics on chrome/safari. Use cdn_resources='in_line' or cdn_resources='remote' if you have issues viewing graphics in a notebook.\n",
      "lab_reports_network.html\n"
     ]
    }
   ],
   "source": [
    "import pandas as pd\n",
    "import networkx as nx\n",
    "from pyvis.network import Network\n",
    "\n",
    "def generate_patient_network(patient_id):\n",
    "    patients_df = pd.read_csv('small_dataset/PATIENTS.csv')\n",
    "    admissions_df = pd.read_csv('small_dataset/ADMISSIONS.csv')\n",
    "    labevents_df = pd.read_csv('small_dataset/LABEVENTS.csv')\n",
    "    d_labitems_df = pd.read_csv('small_dataset/D_LABITEMS.csv')\n",
    "    \n",
    "    # Filter data for the given patient\n",
    "    admissions_df_filtered = admissions_df[admissions_df['subject_id'] == patient_id]\n",
    "    labevents_df_filtered = labevents_df[labevents_df['hadm_id'].isin(admissions_df_filtered['hadm_id'])]\n",
    "    \n",
    "    # Initialize the NetworkX graph\n",
    "    G = nx.DiGraph()\n",
    "    \n",
    "    # Add node for the patient\n",
    "    G.add_node(str(patient_id), title=f\"Patient {patient_id}\", color=\"lightblue\", size=25)\n",
    "    \n",
    "    # For Admissions\n",
    "    for idx, row in admissions_df_filtered.iterrows():\n",
    "        G.add_node(str(row['hadm_id']), title=f\"Admission {row['hadm_id']}\", color=\"yellow\", size=20)\n",
    "        G.add_edge(str(patient_id), str(row['hadm_id']), title='had admission')\n",
    "    \n",
    "    # For Lab Events\n",
    "    for idx, row in labevents_df_filtered.iterrows():\n",
    "        item_desc = d_labitems_df[d_labitems_df['itemid'] == row['itemid']].iloc[0]['label']\n",
    "        test_name = f\"Test {row['itemid']} - {item_desc}\"\n",
    "        G.add_node(test_name, title=f\"{test_name}: {row['value']} {row['valueuom']}\", color=\"orange\", size=15)\n",
    "        G.add_edge(str(row['hadm_id']), test_name, title='lab result')\n",
    "    \n",
    "    # Initialize PyVis network\n",
    "    nt = Network('1000px', '2000px', notebook=True)\n",
    "    nt.from_nx(G)\n",
    "    nt.show_buttons(filter_=['physics'])\n",
    "    nt.show(\"lab_reports_network.html\")\n",
    "\n",
    "# Input patient ID\n",
    "patient_id_input = int(input(\"Enter patient ID: \")) # check patients_csv and find subject_id attribute and get any id from it\n",
    "generate_patient_network(patient_id_input)\n"
   ]
  },
  {
   "cell_type": "code",
   "execution_count": null,
   "id": "9fda98af-3a80-4250-ae18-48d8ff8834a4",
   "metadata": {},
   "outputs": [],
   "source": []
  }
 ],
 "metadata": {
  "kernelspec": {
   "display_name": "Python 3 (ipykernel)",
   "language": "python",
   "name": "python3"
  },
  "language_info": {
   "codemirror_mode": {
    "name": "ipython",
    "version": 3
   },
   "file_extension": ".py",
   "mimetype": "text/x-python",
   "name": "python",
   "nbconvert_exporter": "python",
   "pygments_lexer": "ipython3",
   "version": "3.11.7"
  }
 },
 "nbformat": 4,
 "nbformat_minor": 5
}
